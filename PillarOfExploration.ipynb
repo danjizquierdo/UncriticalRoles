{
 "cells": [
  {
   "cell_type": "code",
   "execution_count": 44,
   "metadata": {},
   "outputs": [],
   "source": [
    "import pandas as pd\n",
    "import jsonlines\n",
    "import networkx as nx\n",
    "from moderators import *\n",
    "%load_ext autoreload\n",
    "%autoreload 2"
   ]
  },
  {
   "cell_type": "code",
   "execution_count": 34,
   "metadata": {},
   "outputs": [],
   "source": [
    "tweets = []\n",
    "with jsonlines.open('2020-03-12-tweets.json', mode='r') as reader:\n",
    "    for line in reader:\n",
    "        try:\n",
    "            tweets.append(line)\n",
    "        except:\n",
    "            print(line)"
   ]
  },
  {
   "cell_type": "code",
   "execution_count": 35,
   "metadata": {
    "scrolled": true
   },
   "outputs": [
    {
     "data": {
      "text/plain": [
       "3058"
      ]
     },
     "execution_count": 35,
     "metadata": {},
     "output_type": "execute_result"
    }
   ],
   "source": [
    "len(tweets)"
   ]
  },
  {
   "cell_type": "code",
   "execution_count": 36,
   "metadata": {},
   "outputs": [
    {
     "data": {
      "text/plain": [
       "dict_keys(['timestamp', 'text', 'user_id', 'coordinates', 'id'])"
      ]
     },
     "execution_count": 36,
     "metadata": {},
     "output_type": "execute_result"
    }
   ],
   "source": [
    "tweets[].keys()"
   ]
  },
  {
   "cell_type": "code",
   "execution_count": 38,
   "metadata": {},
   "outputs": [
    {
     "data": {
      "text/plain": [
       "'I knew ALL DAY that there was a reason March 12 was important.\\n\\nHappy 5th anniversary to @CriticalRole!\\n\\n@matthewmercer @executivegoth @TheVulcanSalute @LauraBaileyVO @WillingBlam @samriegel @Marisha_Ray @VoiceOfOBrien @BrianWFoster\\n\\nFor the next 5 years, #HowDoYouWantToDoThis?'"
      ]
     },
     "execution_count": 38,
     "metadata": {},
     "output_type": "execute_result"
    }
   ],
   "source": [
    "tweets[1]['text']"
   ]
  },
  {
   "cell_type": "code",
   "execution_count": 55,
   "metadata": {},
   "outputs": [
    {
     "data": {
      "text/plain": [
       "'i knew all day reason march 12 important happy 5th anniversary criticalrole matthewmercer executivegoth thevulcansalute laurabaileyvo willingblam samriegel marisharay voiceofobrien brianwfoster for next 5 year howdoyouwanttodothis'"
      ]
     },
     "execution_count": 55,
     "metadata": {},
     "output_type": "execute_result"
    }
   ],
   "source": [
    "' '.join(process_tweet(tweets[1]['text']))"
   ]
  },
  {
   "cell_type": "code",
   "execution_count": null,
   "metadata": {},
   "outputs": [],
   "source": [
    "critters = nx.Graph()\n",
    "for tweet in tweets:\n",
    "    text = ' '.join(process_tweet(tweet['text']))\n",
    "    critters.add_node((tweet['id'], {'text': }))\n",
    "    critters.add_edge(tweet['id'], row[1]['Target'].replace('-',' '), weight=row[1]['weight'])"
   ]
  }
 ],
 "metadata": {
  "kernelspec": {
   "display_name": "sentiment_conda",
   "language": "python",
   "name": "sentiment_conda"
  },
  "language_info": {
   "codemirror_mode": {
    "name": "ipython",
    "version": 3
   },
   "file_extension": ".py",
   "mimetype": "text/x-python",
   "name": "python",
   "nbconvert_exporter": "python",
   "pygments_lexer": "ipython3",
   "version": "3.7.5"
  }
 },
 "nbformat": 4,
 "nbformat_minor": 4
}
